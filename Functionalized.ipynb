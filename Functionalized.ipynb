{
 "cells": [
  {
   "cell_type": "markdown",
   "metadata": {},
   "source": [
    "# NZ Seek Data Jobs Analysis"
   ]
  },
  {
   "cell_type": "markdown",
   "metadata": {},
   "source": [
    "## Data Reprocessing"
   ]
  },
  {
   "cell_type": "markdown",
   "metadata": {},
   "source": [
    "### 1. Import library"
   ]
  },
  {
   "cell_type": "code",
   "execution_count": null,
   "metadata": {},
   "outputs": [],
   "source": [
    "import pandas as pd\n",
    "import numpy as np\n",
    "import re\n",
    "\n",
    "pd.set_option('display.max_colwidth',None)"
   ]
  },
  {
   "cell_type": "markdown",
   "metadata": {},
   "source": [
    "### 2. Values"
   ]
  },
  {
   "cell_type": "code",
   "execution_count": null,
   "metadata": {},
   "outputs": [],
   "source": [
    "# Clean duplicated text\n",
    "def delduplicated(x):\n",
    "    sentence=x.strip()\n",
    "    index=(sentence+sentence).find(sentence,1)\n",
    "    if index!=-1:\n",
    "        return sentence[:index]\n",
    "    else:\n",
    "        return 'Unknown'"
   ]
  },
  {
   "cell_type": "markdown",
   "metadata": {},
   "source": [
    "### 2-1 Get possible useful info from url"
   ]
  },
  {
   "cell_type": "code",
   "execution_count": null,
   "metadata": {},
   "outputs": [],
   "source": [
    "def seek_link(df,seek_index):\n",
    "    df[[\"Job_ID\",\"Search_Type\"]]=df[seek_index].str.extract('job/(.+?)?type=(\\w+)',expand=True) \n",
    "    df['Job_ID'] = df['Job_ID'].str.replace('?','').astype(int)\n",
    "    df.drop([seek_index],axis=1,inplace=True)"
   ]
  },
  {
   "cell_type": "markdown",
   "metadata": {},
   "source": [
    "### 2-2 Get post time"
   ]
  },
  {
   "cell_type": "code",
   "execution_count": null,
   "metadata": {},
   "outputs": [],
   "source": [
    "# unify post time \n",
    "def time_transfer(x):\n",
    "    if 'd' in x:\n",
    "        return -int(x[:-1])\n",
    "    elif 'm' in x:\n",
    "        return -(int(x[:-1])*30)\n",
    "    elif x =='Unknown':\n",
    "        return 'Unknown'\n",
    "    else:\n",
    "        return 0\n",
    "       \n",
    "### Clean Original post_time,get job's posted time\n",
    "def get_postime(df, post_index):\n",
    "    df[['Post_Time','Featured_at']]=df[post_index].str.split(',',expand=True)[[0,2]]\n",
    "    df.drop(['Featured_at'],axis=1,inplace=True)\n",
    "    df['Post_Time']=df['Post_Time'].str.extract('(\\d+\\w)')\n",
    "    df['Post_Time'].fillna('Unknown',inplace=True)\n",
    "    df['Post_Time']=df['Post_Time'].astype('str')\n",
    "    df['Post_Time']=df['Post_Time'].apply(time_transfer)"
   ]
  },
  {
   "cell_type": "markdown",
   "metadata": {},
   "source": [
    "### 2-3 Get Location and Area"
   ]
  },
  {
   "cell_type": "code",
   "execution_count": null,
   "metadata": {},
   "outputs": [],
   "source": [
    "# Clean Original location info, get location and area info\n",
    "def clean_location(df,location_index):\n",
    "    df[['Location','Area']]=df[location_index].str.split('area: ',expand=True)\n",
    "    df['Area']=df['Area'].str.split(',',expand=True)[0]\n",
    "    \n",
    "    df['Location'] = [x[10:] for x in df['Location']]\n",
    "    df['Location'] = df['Location'].apply(delduplicated)\n",
    "    \n",
    "    df['Area'].fillna('Unknown',inplace=True)\n",
    "    df['Area'] = df['Area'].apply(delduplicated)\n",
    "    \n",
    "    "
   ]
  },
  {
   "cell_type": "markdown",
   "metadata": {},
   "source": [
    "### 2-4 Get Classification and subclassification"
   ]
  },
  {
   "cell_type": "code",
   "execution_count": null,
   "metadata": {},
   "outputs": [],
   "source": [
    "# get salary from classification col\n",
    "def detect_salary(x):\n",
    "    if 'classification:' in x:\n",
    "        return ('Unknown')\n",
    "    else:\n",
    "        df.loc[df['Classification']==x,'Classification']='Unknown'\n",
    "        return (x)\n",
    "    \n",
    "def clean_classification(df,class_index):\n",
    "    df[['Classification','Subclassification']]=df[class_index].str.split('subClassification: ',expand=True)\n",
    "    df['Classification'] = [x[16:] for x in df['Classification']]\n",
    "    \n",
    "    df['Classification']=df['Classification'].apply(delduplicated)\n",
    "\n",
    "    df['Subclassification'].fillna('Unknown',inplace=True)\n",
    "    df['Subclassification']=df['Subclassification'].apply(delduplicated)\n"
   ]
  },
  {
   "cell_type": "markdown",
   "metadata": {},
   "source": [
    "### 2-5 Get Salary"
   ]
  },
  {
   "cell_type": "code",
   "execution_count": null,
   "metadata": {},
   "outputs": [],
   "source": [
    "# function using to get the indexes of num which having 'k' from max col \n",
    "def multip_k(x_max):\n",
    "    if 'k' in x_max:\n",
    "        return (x_max.index)\n",
    "    else:\n",
    "        return ('none')\n",
    "\n",
    "def clean_salary(df):\n",
    "    df['Salary']=df['Classification'].apply(detect_salary)\n",
    "    # get holiday pay\n",
    "    df['Plus']=df['Salary'].str.extract('(\\d+%)')\n",
    "    df['Plus'].fillna('Unkown',inplace=True)\n",
    "\n",
    "    df['Salary']= df[df['Salary'].str.contains('\\d')]['Salary'].str.replace('to','-')\n",
    "    df['Salary']=df[df['Salary'].str.contains('\\d',na=False)]['Salary'].str.replace('\\d+%','',regex=True)\n",
    "    \n",
    "    #split range from salary\n",
    "    df[['Min_salary','Max_salary']]=df['Salary'].str.split('-',n=1,expand=True).fillna('Unkown')\n",
    "    df[['Min_salary','Max_salary']].fillna('Unkown',inplace=True)\n",
    "    \n",
    "    # clean min and max salary, unify format\n",
    "    df['Min_salary'] = df['Min_salary'].str.replace(',','')\n",
    "    df['Max_salary'] = df['Max_salary'].str.replace(',','')\n",
    "    \n",
    "    # extract salary num having '. k ' and remove space between num\n",
    "    df['Min_salary'] = df['Min_salary'].str.extract('(\\d+\\.\\+\\d|\\d+ \\d+|\\d+k|\\d+)')\n",
    "    df['Max_salary'] = df['Max_salary'].str.extract('(\\d+\\.\\+\\d|\\d+ \\d+|\\d+k|\\d+)')\n",
    "    df['Min_salary'] = df['Min_salary'].str.replace(' ','')\n",
    "    df['Max_salary'] = df['Max_salary'].str.replace(' ','')\n",
    "    \n",
    "    # get the indexes of num which having 'k' from max col \n",
    "    # replace k to 000 in both min/max cols\n",
    "    index_k = df[df['Max_salary'].str.contains('\\d',na=False)]['Max_salary'].apply(multip_k)\n",
    "    df['Max_salary']=df[df['Max_salary'].str.contains('\\d',na=False)]['Max_salary'].str.replace('k','000',regex=True)\n",
    "    \n",
    "    for x in index_k[index_k!='none'].index:\n",
    "        df.loc[x,'Min_salary']=df.loc[x,'Min_salary']+'000'\n",
    "    \n",
    "\n",
    "    df['Min_salary']=df['Min_salary'].fillna('Unkown')\n",
    "    df['Max_salary']=df['Max_salary'].fillna('Unkown')\n",
    "    \n",
    "    # to fulfill null salary in min/max salary col\n",
    "    for i, row in enumerate(df['Min_salary']):\n",
    "        if row=='Unkown':\n",
    "            df.loc[i,'Min_salary']=np.random.randint(45000,75000,size=1)[0]\n",
    "            \n",
    "    for i, row in enumerate(df['Max_salary']):\n",
    "        if row=='Unkown':\n",
    "            df.loc[i,'Max_salary']=max(np.random.randint(45000,75000,size=1)[0],float(df['Min_salary'][i]))\n",
    "            \n",
    "            \n",
    "    # Unify min/max salary cols values' format \n",
    "    df['Min_salary']=df['Min_salary'].astype('float32')\n",
    "    df['Max_salary']=df['Max_salary'].astype('float32')\n",
    "    \n",
    "    # add holiday pay plus to each salary needed\n",
    "    for i, row in enumerate(df['Plus']):\n",
    "        if row != 'Unkown':\n",
    "            df.loc[i,'Min_salary']=(float(df['Plus'][i][:-1])/100)*df.loc[i,'Min_salary']\n",
    "            df.loc[i,'Max_salary']=(float(df['Plus'][i][:-1])/100)*df.loc[i,'Max_salary']\n",
    "     \n",
    "    # transfer min/max salary cols into annual base value\n",
    "    df.loc[(df['Min_salary']/100)<=10,'Min_salary']=df['Min_salary']*8*200\n",
    "    df.loc[(df['Max_salary']/100)<=10,'Max_salary']=df['Max_salary']*8*200\n",
    "    \n",
    "    \n",
    "    # Delete redundant cols\n",
    "    df.drop(['Salary'],axis=1,inplace=True)\n",
    "    df.drop(['Plus'],axis=1,inplace=True)"
   ]
  }
 ],
 "metadata": {
  "kernelspec": {
   "display_name": "Python 3",
   "language": "python",
   "name": "python3"
  },
  "language_info": {
   "codemirror_mode": {
    "name": "ipython",
    "version": 3
   },
   "file_extension": ".py",
   "mimetype": "text/x-python",
   "name": "python",
   "nbconvert_exporter": "python",
   "pygments_lexer": "ipython3",
   "version": "3.7.3"
  }
 },
 "nbformat": 4,
 "nbformat_minor": 2
}
