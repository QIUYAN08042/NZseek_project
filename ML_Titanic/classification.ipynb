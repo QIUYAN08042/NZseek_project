{
 "cells": [
  {
   "cell_type": "markdown",
   "metadata": {},
   "source": [
    "#  Use machine learning to create a model that predicts which passengers survived the Titanic shipwreck."
   ]
  },
  {
   "cell_type": "markdown",
   "metadata": {},
   "source": [
    "## **Descrition**\n",
    "### Two similar datasets that include passenger information like name, age, gender, socio-economic class, etc. One dataset is titled `train.csv` and the other is titled `test.csv`.\n",
    "\n",
    "### Train.csv will contain the details of a subset of the passengers on board (891 to be exact) and importantly, will reveal whether they survived or not, also known as the “ground truth”.\n",
    "\n",
    "### The `test.csv` dataset contains similar information but does not disclose the “ground truth” for each passenger. "
   ]
  },
  {
   "cell_type": "code",
   "execution_count": 225,
   "metadata": {},
   "outputs": [],
   "source": [
    "#import libraries\n",
    "import pandas as pd\n",
    "import numpy as np\n",
    "import matplotlib.pyplot as plt\n",
    "import seaborn as sns3 \n",
    "import warnings   # remove all warnings from the output\n",
    "warnings.filterwarnings(\"ignore\")\n",
    "\n",
    "pd.set_option('display.max_colwidth',-1)"
   ]
  },
  {
   "cell_type": "code",
   "execution_count": 226,
   "metadata": {},
   "outputs": [],
   "source": [
    "df_titanic = pd.read_csv('train.csv')                    "
   ]
  },
  {
   "cell_type": "markdown",
   "metadata": {},
   "source": [
    "## **1.1 Overview**\n",
    "* `PassengerId` is the unique id of the row and it doesn't have any effect on target\n",
    "* `Survived` is the target variable we are trying to predict (**0** or **1**):\n",
    "    - **1 = Survived**\n",
    "    - **0 = Not Survived**\n",
    "* `Pclass` (Passenger Class) is the socio-economic status of the passenger and it is a categorical ordinal feature which has **3** unique values (**1**,  **2 **or **3**):\n",
    "    - **1 = Upper Class**\n",
    "    - **2 = Middle Class**\n",
    "    - **3 = Lower Class**\n",
    "* `Name`, `Sex` and `Age` are self-explanatory\n",
    "* `SibSp` is the total number of the passengers' siblings and spouse\n",
    "* `Parch` is the total number of the passengers' parents and children\n",
    "* `Ticket` is the ticket number of the passenger\n",
    "* `Fare` is the passenger fare\n",
    "* `Cabin` is the cabin number of the passenger\n",
    "* `Embarked` is port of embarkation and it is a categorical feature which has **3** unique values (**C**, **Q** or **S**):\n",
    "    - **C = Cherbourg**\n",
    "    - **Q = Queenstown**\n",
    "    - **S = Southampton**"
   ]
  },
  {
   "cell_type": "code",
   "execution_count": 227,
   "metadata": {},
   "outputs": [
    {
     "name": "stdout",
     "output_type": "stream",
     "text": [
      "<class 'pandas.core.frame.DataFrame'>\n",
      "RangeIndex: 891 entries, 0 to 890\n",
      "Data columns (total 12 columns):\n",
      "PassengerId    891 non-null int64\n",
      "Survived       891 non-null int64\n",
      "Pclass         891 non-null int64\n",
      "Name           891 non-null object\n",
      "Sex            891 non-null object\n",
      "Age            714 non-null float64\n",
      "SibSp          891 non-null int64\n",
      "Parch          891 non-null int64\n",
      "Ticket         891 non-null object\n",
      "Fare           891 non-null float64\n",
      "Cabin          204 non-null object\n",
      "Embarked       889 non-null object\n",
      "dtypes: float64(2), int64(5), object(5)\n",
      "memory usage: 83.6+ KB\n"
     ]
    }
   ],
   "source": [
    "df_titanic.info()"
   ]
  },
  {
   "cell_type": "code",
   "execution_count": 228,
   "metadata": {},
   "outputs": [
    {
     "data": {
      "text/html": [
       "<div>\n",
       "<style scoped>\n",
       "    .dataframe tbody tr th:only-of-type {\n",
       "        vertical-align: middle;\n",
       "    }\n",
       "\n",
       "    .dataframe tbody tr th {\n",
       "        vertical-align: top;\n",
       "    }\n",
       "\n",
       "    .dataframe thead th {\n",
       "        text-align: right;\n",
       "    }\n",
       "</style>\n",
       "<table border=\"1\" class=\"dataframe\">\n",
       "  <thead>\n",
       "    <tr style=\"text-align: right;\">\n",
       "      <th></th>\n",
       "      <th>PassengerId</th>\n",
       "      <th>Survived</th>\n",
       "      <th>Pclass</th>\n",
       "      <th>Name</th>\n",
       "      <th>Sex</th>\n",
       "      <th>Age</th>\n",
       "      <th>SibSp</th>\n",
       "      <th>Parch</th>\n",
       "      <th>Ticket</th>\n",
       "      <th>Fare</th>\n",
       "      <th>Cabin</th>\n",
       "      <th>Embarked</th>\n",
       "    </tr>\n",
       "  </thead>\n",
       "  <tbody>\n",
       "    <tr>\n",
       "      <th>0</th>\n",
       "      <td>1</td>\n",
       "      <td>0</td>\n",
       "      <td>3</td>\n",
       "      <td>Braund, Mr. Owen Harris</td>\n",
       "      <td>male</td>\n",
       "      <td>22.0</td>\n",
       "      <td>1</td>\n",
       "      <td>0</td>\n",
       "      <td>A/5 21171</td>\n",
       "      <td>7.2500</td>\n",
       "      <td>NaN</td>\n",
       "      <td>S</td>\n",
       "    </tr>\n",
       "    <tr>\n",
       "      <th>1</th>\n",
       "      <td>2</td>\n",
       "      <td>1</td>\n",
       "      <td>1</td>\n",
       "      <td>Cumings, Mrs. John Bradley (Florence Briggs Thayer)</td>\n",
       "      <td>female</td>\n",
       "      <td>38.0</td>\n",
       "      <td>1</td>\n",
       "      <td>0</td>\n",
       "      <td>PC 17599</td>\n",
       "      <td>71.2833</td>\n",
       "      <td>C85</td>\n",
       "      <td>C</td>\n",
       "    </tr>\n",
       "    <tr>\n",
       "      <th>2</th>\n",
       "      <td>3</td>\n",
       "      <td>1</td>\n",
       "      <td>3</td>\n",
       "      <td>Heikkinen, Miss. Laina</td>\n",
       "      <td>female</td>\n",
       "      <td>26.0</td>\n",
       "      <td>0</td>\n",
       "      <td>0</td>\n",
       "      <td>STON/O2. 3101282</td>\n",
       "      <td>7.9250</td>\n",
       "      <td>NaN</td>\n",
       "      <td>S</td>\n",
       "    </tr>\n",
       "    <tr>\n",
       "      <th>3</th>\n",
       "      <td>4</td>\n",
       "      <td>1</td>\n",
       "      <td>1</td>\n",
       "      <td>Futrelle, Mrs. Jacques Heath (Lily May Peel)</td>\n",
       "      <td>female</td>\n",
       "      <td>35.0</td>\n",
       "      <td>1</td>\n",
       "      <td>0</td>\n",
       "      <td>113803</td>\n",
       "      <td>53.1000</td>\n",
       "      <td>C123</td>\n",
       "      <td>S</td>\n",
       "    </tr>\n",
       "    <tr>\n",
       "      <th>4</th>\n",
       "      <td>5</td>\n",
       "      <td>0</td>\n",
       "      <td>3</td>\n",
       "      <td>Allen, Mr. William Henry</td>\n",
       "      <td>male</td>\n",
       "      <td>35.0</td>\n",
       "      <td>0</td>\n",
       "      <td>0</td>\n",
       "      <td>373450</td>\n",
       "      <td>8.0500</td>\n",
       "      <td>NaN</td>\n",
       "      <td>S</td>\n",
       "    </tr>\n",
       "  </tbody>\n",
       "</table>\n",
       "</div>"
      ],
      "text/plain": [
       "   PassengerId  Survived  Pclass  \\\n",
       "0  1            0         3        \n",
       "1  2            1         1        \n",
       "2  3            1         3        \n",
       "3  4            1         1        \n",
       "4  5            0         3        \n",
       "\n",
       "                                                  Name     Sex   Age  SibSp  \\\n",
       "0  Braund, Mr. Owen Harris                              male    22.0  1       \n",
       "1  Cumings, Mrs. John Bradley (Florence Briggs Thayer)  female  38.0  1       \n",
       "2  Heikkinen, Miss. Laina                               female  26.0  0       \n",
       "3  Futrelle, Mrs. Jacques Heath (Lily May Peel)         female  35.0  1       \n",
       "4  Allen, Mr. William Henry                             male    35.0  0       \n",
       "\n",
       "   Parch            Ticket     Fare Cabin Embarked  \n",
       "0  0      A/5 21171         7.2500   NaN   S        \n",
       "1  0      PC 17599          71.2833  C85   C        \n",
       "2  0      STON/O2. 3101282  7.9250   NaN   S        \n",
       "3  0      113803            53.1000  C123  S        \n",
       "4  0      373450            8.0500   NaN   S        "
      ]
     },
     "execution_count": 228,
     "metadata": {},
     "output_type": "execute_result"
    }
   ],
   "source": [
    "df_titanic.head()"
   ]
  },
  {
   "cell_type": "markdown",
   "metadata": {},
   "source": [
    "## **1.2 Drop irrelevant features**"
   ]
  },
  {
   "cell_type": "code",
   "execution_count": 229,
   "metadata": {},
   "outputs": [],
   "source": [
    "# Delete columns of features uncorrelated to prediction\n",
    "def dropfea(df): \n",
    "    df.drop(columns=[\"PassengerId\", \"Name\", \"Ticket\"], inplace=True)\n",
    "    \n",
    "dropfea(df=df_titanic)"
   ]
  },
  {
   "cell_type": "code",
   "execution_count": 230,
   "metadata": {},
   "outputs": [
    {
     "data": {
      "text/html": [
       "<div>\n",
       "<style scoped>\n",
       "    .dataframe tbody tr th:only-of-type {\n",
       "        vertical-align: middle;\n",
       "    }\n",
       "\n",
       "    .dataframe tbody tr th {\n",
       "        vertical-align: top;\n",
       "    }\n",
       "\n",
       "    .dataframe thead th {\n",
       "        text-align: right;\n",
       "    }\n",
       "</style>\n",
       "<table border=\"1\" class=\"dataframe\">\n",
       "  <thead>\n",
       "    <tr style=\"text-align: right;\">\n",
       "      <th></th>\n",
       "      <th>Survived</th>\n",
       "      <th>Pclass</th>\n",
       "      <th>Sex</th>\n",
       "      <th>Age</th>\n",
       "      <th>SibSp</th>\n",
       "      <th>Parch</th>\n",
       "      <th>Fare</th>\n",
       "      <th>Cabin</th>\n",
       "      <th>Embarked</th>\n",
       "    </tr>\n",
       "  </thead>\n",
       "  <tbody>\n",
       "    <tr>\n",
       "      <th>0</th>\n",
       "      <td>0</td>\n",
       "      <td>3</td>\n",
       "      <td>male</td>\n",
       "      <td>22.0</td>\n",
       "      <td>1</td>\n",
       "      <td>0</td>\n",
       "      <td>7.2500</td>\n",
       "      <td>NaN</td>\n",
       "      <td>S</td>\n",
       "    </tr>\n",
       "    <tr>\n",
       "      <th>1</th>\n",
       "      <td>1</td>\n",
       "      <td>1</td>\n",
       "      <td>female</td>\n",
       "      <td>38.0</td>\n",
       "      <td>1</td>\n",
       "      <td>0</td>\n",
       "      <td>71.2833</td>\n",
       "      <td>C85</td>\n",
       "      <td>C</td>\n",
       "    </tr>\n",
       "    <tr>\n",
       "      <th>2</th>\n",
       "      <td>1</td>\n",
       "      <td>3</td>\n",
       "      <td>female</td>\n",
       "      <td>26.0</td>\n",
       "      <td>0</td>\n",
       "      <td>0</td>\n",
       "      <td>7.9250</td>\n",
       "      <td>NaN</td>\n",
       "      <td>S</td>\n",
       "    </tr>\n",
       "    <tr>\n",
       "      <th>3</th>\n",
       "      <td>1</td>\n",
       "      <td>1</td>\n",
       "      <td>female</td>\n",
       "      <td>35.0</td>\n",
       "      <td>1</td>\n",
       "      <td>0</td>\n",
       "      <td>53.1000</td>\n",
       "      <td>C123</td>\n",
       "      <td>S</td>\n",
       "    </tr>\n",
       "    <tr>\n",
       "      <th>4</th>\n",
       "      <td>0</td>\n",
       "      <td>3</td>\n",
       "      <td>male</td>\n",
       "      <td>35.0</td>\n",
       "      <td>0</td>\n",
       "      <td>0</td>\n",
       "      <td>8.0500</td>\n",
       "      <td>NaN</td>\n",
       "      <td>S</td>\n",
       "    </tr>\n",
       "  </tbody>\n",
       "</table>\n",
       "</div>"
      ],
      "text/plain": [
       "   Survived  Pclass     Sex   Age  SibSp  Parch     Fare Cabin Embarked\n",
       "0  0         3       male    22.0  1      0      7.2500   NaN   S      \n",
       "1  1         1       female  38.0  1      0      71.2833  C85   C      \n",
       "2  1         3       female  26.0  0      0      7.9250   NaN   S      \n",
       "3  1         1       female  35.0  1      0      53.1000  C123  S      \n",
       "4  0         3       male    35.0  0      0      8.0500   NaN   S      "
      ]
     },
     "execution_count": 230,
     "metadata": {},
     "output_type": "execute_result"
    }
   ],
   "source": [
    "df_titanic.head()"
   ]
  },
  {
   "cell_type": "code",
   "execution_count": 231,
   "metadata": {},
   "outputs": [],
   "source": [
    "#calculate null percentage\n",
    "def null(df, feature, plot=False):\n",
    "    t = df[feature].isna().mean() * 100\n",
    "    print(f'% of null: {t}%')\n",
    "    if plot:\n",
    "        sns.countplot(df[feature], palette='Set3')"
   ]
  },
  {
   "cell_type": "code",
   "execution_count": 232,
   "metadata": {},
   "outputs": [
    {
     "data": {
      "text/plain": [
       "Survived    0  \n",
       "Pclass      0  \n",
       "Sex         0  \n",
       "Age         177\n",
       "SibSp       0  \n",
       "Parch       0  \n",
       "Fare        0  \n",
       "Cabin       687\n",
       "Embarked    2  \n",
       "dtype: int64"
      ]
     },
     "execution_count": 232,
     "metadata": {},
     "output_type": "execute_result"
    }
   ],
   "source": [
    "# Check which cols have null value\n",
    "x = df_titanic.isnull().sum()\n",
    "x"
   ]
  },
  {
   "cell_type": "code",
   "execution_count": 233,
   "metadata": {},
   "outputs": [
    {
     "name": "stdout",
     "output_type": "stream",
     "text": [
      "% of null: 19.865319865319865%\n"
     ]
    }
   ],
   "source": [
    "null(df_titanic,'Age')"
   ]
  },
  {
   "cell_type": "code",
   "execution_count": 234,
   "metadata": {},
   "outputs": [
    {
     "name": "stdout",
     "output_type": "stream",
     "text": [
      "% of null: 77.10437710437711%\n"
     ]
    }
   ],
   "source": [
    "null(df_titanic,'Cabin')"
   ]
  },
  {
   "cell_type": "code",
   "execution_count": 235,
   "metadata": {},
   "outputs": [
    {
     "name": "stdout",
     "output_type": "stream",
     "text": [
      "% of null: 0.22446689113355783%\n"
     ]
    }
   ],
   "source": [
    "null(df_titanic,'Embarked')"
   ]
  },
  {
   "cell_type": "code",
   "execution_count": 237,
   "metadata": {},
   "outputs": [],
   "source": [
    "# handling missing values\n",
    "def fillnull(df):\n",
    "    df['Age'].fillna(df['Age'].median, inplace=True)\n",
    "    df['Cabin'].fillna(\"Unknown\", inplace=True)\n",
    "    df['Embarked'].fillna(df['Embarked'].unique()[0], inplace=True)"
   ]
  },
  {
   "cell_type": "markdown",
   "metadata": {},
   "source": [
    "## **1.3 Logistics Regression**"
   ]
  },
  {
   "cell_type": "code",
   "execution_count": 236,
   "metadata": {},
   "outputs": [],
   "source": [
    "#use sklearn to manually split train and test data, test data is survived col\n",
    "from sklearn.model_selection import train_test_split\n",
    "X_train, X_test, y_train, y_test = train_test_split(df_titanic.drop(columns=[\"Survived\"]), df_titanic[\"Survived\"], \n",
    "                                                    test_size=0.3, random_state=42)"
   ]
  },
  {
   "cell_type": "code",
   "execution_count": 239,
   "metadata": {},
   "outputs": [
    {
     "name": "stdout",
     "output_type": "stream",
     "text": [
      "<class 'pandas.core.frame.DataFrame'>\n",
      "Int64Index: 623 entries, 445 to 102\n",
      "Data columns (total 8 columns):\n",
      "Pclass      623 non-null int64\n",
      "Sex         623 non-null object\n",
      "Age         623 non-null object\n",
      "SibSp       623 non-null int64\n",
      "Parch       623 non-null int64\n",
      "Fare        623 non-null float64\n",
      "Cabin       623 non-null object\n",
      "Embarked    623 non-null object\n",
      "dtypes: float64(1), int64(3), object(4)\n",
      "memory usage: 43.8+ KB\n"
     ]
    }
   ],
   "source": [
    "fillnull(X_train)\n",
    "fillnull(X_test)\n",
    "X_train.info()"
   ]
  },
  {
   "cell_type": "code",
   "execution_count": 457,
   "metadata": {},
   "outputs": [],
   "source": [
    "from sklearn.pipeline import Pipeline\n",
    "from sklearn.preprocessing import StandardScaler\n",
    "# encoding categorical features\n",
    "from sklearn.preprocessing import LabelEncoder\n",
    "#The only different is that LabelEncoder returned an array, while OrdinalEncoder returned each element inside an array of arrays.\n",
    "from sklearn.preprocessing import OneHotEncoder, OrdinalEncoder\n",
    "from sklearn.linear_model import LogisticRegression\n",
    "\n",
    "\n",
    "#categorical data preprocessing \n",
    "categorical_features = ['Embarked', 'Sex', 'Cabin']\n",
    "categorical_transformer = ColumnTransformer([\n",
    "    ('CatOneHot',OneHotEncoder(handle_unknown='ignore'), categorical_features)\n",
    "])\n",
    "\n",
    "scaler = ColumnTransformer([\n",
    "    ('scaler',StandardScaler(with_mean=False),slice(0,-1))\n",
    "])\n",
    "\n",
    "\n",
    "classifier_lr = LogisticRegression()"
   ]
  },
  {
   "cell_type": "code",
   "execution_count": 458,
   "metadata": {},
   "outputs": [],
   "source": [
    "from sklearn import set_config\n",
    "set_config(display='diagram')"
   ]
  },
  {
   "cell_type": "code",
   "execution_count": 466,
   "metadata": {},
   "outputs": [
    {
     "data": {
      "text/html": [
       "<style>#sk-0edd6b18-4dea-4cb5-a322-ad7663a403ff {color: black;background-color: white;}#sk-0edd6b18-4dea-4cb5-a322-ad7663a403ff pre{padding: 0;}#sk-0edd6b18-4dea-4cb5-a322-ad7663a403ff div.sk-toggleable {background-color: white;}#sk-0edd6b18-4dea-4cb5-a322-ad7663a403ff label.sk-toggleable__label {cursor: pointer;display: block;width: 100%;margin-bottom: 0;padding: 0.2em 0.3em;box-sizing: border-box;text-align: center;}#sk-0edd6b18-4dea-4cb5-a322-ad7663a403ff div.sk-toggleable__content {max-height: 0;max-width: 0;overflow: hidden;text-align: left;background-color: #f0f8ff;}#sk-0edd6b18-4dea-4cb5-a322-ad7663a403ff div.sk-toggleable__content pre {margin: 0.2em;color: black;border-radius: 0.25em;background-color: #f0f8ff;}#sk-0edd6b18-4dea-4cb5-a322-ad7663a403ff input.sk-toggleable__control:checked~div.sk-toggleable__content {max-height: 200px;max-width: 100%;overflow: auto;}#sk-0edd6b18-4dea-4cb5-a322-ad7663a403ff div.sk-estimator input.sk-toggleable__control:checked~label.sk-toggleable__label {background-color: #d4ebff;}#sk-0edd6b18-4dea-4cb5-a322-ad7663a403ff div.sk-label input.sk-toggleable__control:checked~label.sk-toggleable__label {background-color: #d4ebff;}#sk-0edd6b18-4dea-4cb5-a322-ad7663a403ff input.sk-hidden--visually {border: 0;clip: rect(1px 1px 1px 1px);clip: rect(1px, 1px, 1px, 1px);height: 1px;margin: -1px;overflow: hidden;padding: 0;position: absolute;width: 1px;}#sk-0edd6b18-4dea-4cb5-a322-ad7663a403ff div.sk-estimator {font-family: monospace;background-color: #f0f8ff;margin: 0.25em 0.25em;border: 1px dotted black;border-radius: 0.25em;box-sizing: border-box;}#sk-0edd6b18-4dea-4cb5-a322-ad7663a403ff div.sk-estimator:hover {background-color: #d4ebff;}#sk-0edd6b18-4dea-4cb5-a322-ad7663a403ff div.sk-parallel-item::after {content: \"\";width: 100%;border-bottom: 1px solid gray;flex-grow: 1;}#sk-0edd6b18-4dea-4cb5-a322-ad7663a403ff div.sk-label:hover label.sk-toggleable__label {background-color: #d4ebff;}#sk-0edd6b18-4dea-4cb5-a322-ad7663a403ff div.sk-serial::before {content: \"\";position: absolute;border-left: 1px solid gray;box-sizing: border-box;top: 2em;bottom: 0;left: 50%;}#sk-0edd6b18-4dea-4cb5-a322-ad7663a403ff div.sk-serial {display: flex;flex-direction: column;align-items: center;background-color: white;}#sk-0edd6b18-4dea-4cb5-a322-ad7663a403ff div.sk-item {z-index: 1;}#sk-0edd6b18-4dea-4cb5-a322-ad7663a403ff div.sk-parallel {display: flex;align-items: stretch;justify-content: center;background-color: white;}#sk-0edd6b18-4dea-4cb5-a322-ad7663a403ff div.sk-parallel-item {display: flex;flex-direction: column;position: relative;background-color: white;}#sk-0edd6b18-4dea-4cb5-a322-ad7663a403ff div.sk-parallel-item:first-child::after {align-self: flex-end;width: 50%;}#sk-0edd6b18-4dea-4cb5-a322-ad7663a403ff div.sk-parallel-item:last-child::after {align-self: flex-start;width: 50%;}#sk-0edd6b18-4dea-4cb5-a322-ad7663a403ff div.sk-parallel-item:only-child::after {width: 0;}#sk-0edd6b18-4dea-4cb5-a322-ad7663a403ff div.sk-dashed-wrapped {border: 1px dashed gray;margin: 0.2em;box-sizing: border-box;padding-bottom: 0.1em;background-color: white;position: relative;}#sk-0edd6b18-4dea-4cb5-a322-ad7663a403ff div.sk-label label {font-family: monospace;font-weight: bold;background-color: white;display: inline-block;line-height: 1.2em;}#sk-0edd6b18-4dea-4cb5-a322-ad7663a403ff div.sk-label-container {position: relative;z-index: 2;text-align: center;}#sk-0edd6b18-4dea-4cb5-a322-ad7663a403ff div.sk-container {display: inline-block;position: relative;}</style><div id=\"sk-0edd6b18-4dea-4cb5-a322-ad7663a403ff\" class\"sk-top-container\"><div class=\"sk-container\"><div class=\"sk-item sk-dashed-wrapped\"><div class=\"sk-label-container\"><div class=\"sk-label sk-toggleable\"><input class=\"sk-toggleable__control sk-hidden--visually\" id=\"cfe6bf70-b84a-4a80-96e0-ad37a75d8343\" type=\"checkbox\" ><label class=\"sk-toggleable__label\" for=\"cfe6bf70-b84a-4a80-96e0-ad37a75d8343\">Pipeline</label><div class=\"sk-toggleable__content\"><pre>Pipeline(steps=[('columntransformer-1',\n",
       "                 ColumnTransformer(transformers=[('CatOneHot',\n",
       "                                                  OneHotEncoder(handle_unknown='ignore'),\n",
       "                                                  ['Embarked', 'Sex',\n",
       "                                                   'Cabin'])])),\n",
       "                ('columntransformer-2',\n",
       "                 ColumnTransformer(transformers=[('scaler',\n",
       "                                                  StandardScaler(with_mean=False),\n",
       "                                                  slice(0, -1, None))])),\n",
       "                ('logisticregression', LogisticRegression())])</pre></div></div></div><div class=\"sk-serial\"><div class=\"sk-item sk-dashed-wrapped\"><div class=\"sk-label-container\"><div class=\"sk-label sk-toggleable\"><input class=\"sk-toggleable__control sk-hidden--visually\" id=\"1f256e0a-0d2b-4a61-b9be-dbb85b013ae6\" type=\"checkbox\" ><label class=\"sk-toggleable__label\" for=\"1f256e0a-0d2b-4a61-b9be-dbb85b013ae6\">columntransformer-1: ColumnTransformer</label><div class=\"sk-toggleable__content\"><pre>ColumnTransformer(transformers=[('CatOneHot',\n",
       "                                 OneHotEncoder(handle_unknown='ignore'),\n",
       "                                 ['Embarked', 'Sex', 'Cabin'])])</pre></div></div></div><div class=\"sk-parallel\"><div class=\"sk-parallel-item\"><div class=\"sk-item\"><div class=\"sk-label-container\"><div class=\"sk-label sk-toggleable\"><input class=\"sk-toggleable__control sk-hidden--visually\" id=\"bf319ebd-7960-4455-a80a-a111332865cd\" type=\"checkbox\" ><label class=\"sk-toggleable__label\" for=\"bf319ebd-7960-4455-a80a-a111332865cd\">CatOneHot</label><div class=\"sk-toggleable__content\"><pre>['Embarked', 'Sex', 'Cabin']</pre></div></div></div><div class=\"sk-serial\"><div class=\"sk-item\"><div class=\"sk-estimator sk-toggleable\"><input class=\"sk-toggleable__control sk-hidden--visually\" id=\"1a00f3b6-4642-4a18-a19e-816d4b8270a5\" type=\"checkbox\" ><label class=\"sk-toggleable__label\" for=\"1a00f3b6-4642-4a18-a19e-816d4b8270a5\">OneHotEncoder</label><div class=\"sk-toggleable__content\"><pre>OneHotEncoder(handle_unknown='ignore')</pre></div></div></div></div></div></div></div></div><div class=\"sk-item sk-dashed-wrapped\"><div class=\"sk-label-container\"><div class=\"sk-label sk-toggleable\"><input class=\"sk-toggleable__control sk-hidden--visually\" id=\"cd559287-3f5a-4416-9770-c1336f1f6aaa\" type=\"checkbox\" ><label class=\"sk-toggleable__label\" for=\"cd559287-3f5a-4416-9770-c1336f1f6aaa\">columntransformer-2: ColumnTransformer</label><div class=\"sk-toggleable__content\"><pre>ColumnTransformer(transformers=[('scaler', StandardScaler(with_mean=False),\n",
       "                                 slice(0, -1, None))])</pre></div></div></div><div class=\"sk-parallel\"><div class=\"sk-parallel-item\"><div class=\"sk-item\"><div class=\"sk-label-container\"><div class=\"sk-label sk-toggleable\"><input class=\"sk-toggleable__control sk-hidden--visually\" id=\"d380d5ce-9983-4251-93f5-83dc87b1f877\" type=\"checkbox\" ><label class=\"sk-toggleable__label\" for=\"d380d5ce-9983-4251-93f5-83dc87b1f877\">scaler</label><div class=\"sk-toggleable__content\"><pre>slice(0, -1, None)</pre></div></div></div><div class=\"sk-serial\"><div class=\"sk-item\"><div class=\"sk-estimator sk-toggleable\"><input class=\"sk-toggleable__control sk-hidden--visually\" id=\"a8e4a4db-bdad-4f84-91a7-a8dbf03ee16b\" type=\"checkbox\" ><label class=\"sk-toggleable__label\" for=\"a8e4a4db-bdad-4f84-91a7-a8dbf03ee16b\">StandardScaler</label><div class=\"sk-toggleable__content\"><pre>StandardScaler(with_mean=False)</pre></div></div></div></div></div></div></div></div><div class=\"sk-item\"><div class=\"sk-estimator sk-toggleable\"><input class=\"sk-toggleable__control sk-hidden--visually\" id=\"8a817f07-3d75-44d3-8879-f0d63661b7a5\" type=\"checkbox\" ><label class=\"sk-toggleable__label\" for=\"8a817f07-3d75-44d3-8879-f0d63661b7a5\">LogisticRegression</label><div class=\"sk-toggleable__content\"><pre>LogisticRegression()</pre></div></div></div></div></div></div></div>"
      ],
      "text/plain": [
       "Pipeline(steps=[('columntransformer-1',\n",
       "                 ColumnTransformer(transformers=[('CatOneHot',\n",
       "                                                  OneHotEncoder(handle_unknown='ignore'),\n",
       "                                                  ['Embarked', 'Sex',\n",
       "                                                   'Cabin'])])),\n",
       "                ('columntransformer-2',\n",
       "                 ColumnTransformer(transformers=[('scaler',\n",
       "                                                  StandardScaler(with_mean=False),\n",
       "                                                  slice(0, -1, None))])),\n",
       "                ('logisticregression', LogisticRegression())])"
      ]
     },
     "execution_count": 466,
     "metadata": {},
     "output_type": "execute_result"
    }
   ],
   "source": [
    "fpp = make_pipeline(categorical_transformer,scaler,classifier_lr)\n",
    "fpp.fit(X_train, y_train)"
   ]
  },
  {
   "cell_type": "code",
   "execution_count": 416,
   "metadata": {},
   "outputs": [],
   "source": [
    "def plot_confusion_matrix(confusion_mat):\n",
    "    fig=sns.heatmap(confusion_mat,annot=True, square=True, cmap=\"Blues\", fmt='g')# FMT: The type of data shown in the table\n",
    "    plt.title('Confusion matrix')\n",
    "    plt.ylabel('True label')\n",
    "    plt.xlabel('Predicted label') "
   ]
  },
  {
   "cell_type": "code",
   "execution_count": 565,
   "metadata": {},
   "outputs": [],
   "source": [
    "from sklearn.metrics import accuracy_score\n",
    "from sklearn.metrics import classification_report\n",
    "from sklearn.metrics import confusion_matrix\n",
    "\n",
    "# function of printing test dataset and train dataset accuracy\n",
    "def print_score (model,X_train, y_train, X_test, y_test,train=True):\n",
    "    if train:\n",
    "        train_pred = model.predict(X_train)\n",
    "        train_accuracy = round(accuracy_score(y_train, train_pred),3)*100\n",
    "        model_report = classification_report(y_train, train_pred)\n",
    "        confusion_mat = confusion_matrix(y_train, train_pred)\n",
    "        print(\"Train Result:\\n================================================\")\n",
    "        print(f\"Accuracy Score: {train_accuracy}%\")\n",
    "        print(\"_______________________________________________\")\n",
    "        print(f\"CLASSIFICATION REPORT:\\n{model_report}\")\n",
    "        print(\"_______________________________________________\")\n",
    "        print(f\"Confusion Matrix: \\n {confusion_mat}\\n\")\n",
    "        plot_confusion_matrix(confusion_mat) \n",
    "        \n",
    "    elif train==False:\n",
    "        test_pred = model.predict(X_test)\n",
    "        test_accuracy = round(accuracy_score(y_test, test_pred),3)*100\n",
    "        model_report = classification_report(y_test, test_pred)\n",
    "        confusion_mat = confusion_matrix(y_test, test_pred)\n",
    "        print(\"Train Result:\\n================================================\")\n",
    "        print(f\"Accuracy Score: {test_accuracy}%\")\n",
    "        print(\"_______________________________________________\")\n",
    "        print(f\"CLASSIFICATION REPORT:\\n{model_report}\")\n",
    "        print(\"_______________________________________________\")\n",
    "        print(f\"Confusion Matrix: \\n {confusion_mat}\\n\")\n",
    "        plot_confusion_matrix(confusion_mat) \n",
    "        \n",
    "\n"
   ]
  },
  {
   "cell_type": "code",
   "execution_count": 566,
   "metadata": {},
   "outputs": [
    {
     "name": "stdout",
     "output_type": "stream",
     "text": [
      "Train Result:\n",
      "================================================\n",
      "Accuracy Score: 83.8%\n",
      "_______________________________________________\n",
      "CLASSIFICATION REPORT:\n",
      "              precision    recall  f1-score   support\n",
      "\n",
      "           0       0.88      0.86      0.87       392\n",
      "           1       0.78      0.79      0.78       231\n",
      "\n",
      "    accuracy                           0.84       623\n",
      "   macro avg       0.83      0.83      0.83       623\n",
      "weighted avg       0.84      0.84      0.84       623\n",
      "\n",
      "_______________________________________________\n",
      "Confusion Matrix: \n",
      " [[339  53]\n",
      " [ 48 183]]\n",
      "\n"
     ]
    },
    {
     "data": {
      "image/png": "[encoded data removed]",
      "text/plain": [
       "<Figure size 432x288 with 2 Axes>"
      ]
     },
     "metadata": {
      "needs_background": "light"
     },
     "output_type": "display_data"
    }
   ],
   "source": [
    "print_score(fpp,X_train, y_train, X_test, y_test,train=True)"
   ]
  },
  {
   "cell_type": "code",
   "execution_count": 567,
   "metadata": {},
   "outputs": [
    {
     "name": "stdout",
     "output_type": "stream",
     "text": [
      "Train Result:\n",
      "================================================\n",
      "Accuracy Score: 78.0%\n",
      "_______________________________________________\n",
      "CLASSIFICATION REPORT:\n",
      "              precision    recall  f1-score   support\n",
      "\n",
      "           0       0.80      0.83      0.82       157\n",
      "           1       0.75      0.70      0.73       111\n",
      "\n",
      "    accuracy                           0.78       268\n",
      "   macro avg       0.77      0.77      0.77       268\n",
      "weighted avg       0.78      0.78      0.78       268\n",
      "\n",
      "_______________________________________________\n",
      "Confusion Matrix: \n",
      " [[131  26]\n",
      " [ 33  78]]\n",
      "\n"
     ]
    },
    {
     "data": {
      "image/png": "[encoded data removed]",
      "text/plain": [
       "<Figure size 432x288 with 2 Axes>"
      ]
     },
     "metadata": {
      "needs_background": "light"
     },
     "output_type": "display_data"
    }
   ],
   "source": [
    "print_score(fpp,X_train, y_train, X_test, y_test,train=False)"
   ]
  },
  {
   "cell_type": "markdown",
   "metadata": {},
   "source": [
    "## accuracy of classifier prediction function"
   ]
  },
  {
   "cell_type": "code",
   "execution_count": 418,
   "metadata": {},
   "outputs": [],
   "source": [
    "cross_predict = make_pipeline(categorical_transformer,scaler,classifier_lr)"
   ]
  },
  {
   "cell_type": "code",
   "execution_count": 419,
   "metadata": {},
   "outputs": [],
   "source": [
    "from sklearn.model_selection import cross_val_score\n",
    "\n",
    "x_df = df_titanic.drop(columns=[\"Survived\"])\n",
    "y_df = df_titanic[\"Survived\"]\n",
    "\n",
    "# fill missing data\n",
    "fillnull(x_df)\n",
    "\n",
    "# cross_validation evaluation\n",
    "def print_evaluate(classifier,model,score):\n",
    "    pred=cross_val_score(model,x_df,y_df,cv=6,scoring=score)\n",
    "    print('K-fold cross-validation results:')\n",
    "    print(classifier + ' avarage '+score + ' is: %2.3f'% pred.mean()) "
   ]
  },
  {
   "cell_type": "code",
   "execution_count": 420,
   "metadata": {},
   "outputs": [],
   "source": [
    "from sklearn.metrics import roc_curve, auc\n",
    "\n",
    "def plot_curve(y_test,y_pred):\n",
    "    [fpr,tpr,threshold] = roc_curve(y_test,y_pred)# false positive rates ,true positive rates\n",
    "    idx = np.min(np.where(tpr>0.8))\n",
    "    plt.figure()\n",
    "    plt.plot(fpr,tpr,color='coral',label='roc curve (area = %0.3f)'%auc(fpr,tpr))\n",
    "    plt.plot([0,1],[0,1],'k--')\n",
    "    plt.plot([0,fpr[idx]],[tpr[idx],tpr[idx]],'k--', color='blue')\n",
    "    plt.plot([fpr[idx],fpr[idx]],[0,tpr[idx]],'k--', color='blue')    \n",
    "    plt.xlim([0.0,1.0])\n",
    "    plt.ylim([0.0,1.01])\n",
    "    plt.xlabel('False Positive Rate')  \n",
    "    plt.ylabel('True Positive Rate')  \n",
    "    plt.title('Roc Curve')  \n",
    "    plt.legend(loc=\"lower right\") \n",
    "    plt.show()"
   ]
  },
  {
   "cell_type": "markdown",
   "metadata": {},
   "source": [
    "## cross-validation prediction accuracy of Logistic Regression"
   ]
  },
  {
   "cell_type": "code",
   "execution_count": 421,
   "metadata": {},
   "outputs": [
    {
     "name": "stdout",
     "output_type": "stream",
     "text": [
      "K-fold cross-validation results:\n",
      "Logistic Regression avarage accuracy is: 0.778\n",
      "K-fold cross-validation results:\n",
      "Logistic Regression avarage f1_macro is: 0.763\n"
     ]
    }
   ],
   "source": [
    "print_evaluate('Logistic Regression',cross_predict,'accuracy')\n",
    "print_evaluate('Logistic Regression',cross_predict,'f1_macro')"
   ]
  },
  {
   "cell_type": "code",
   "execution_count": 422,
   "metadata": {},
   "outputs": [
    {
     "data": {
      "image/png": "[encoded data removed]",
      "text/plain": [
       "<Figure size 432x288 with 1 Axes>"
      ]
     },
     "metadata": {
      "needs_background": "light"
     },
     "output_type": "display_data"
    }
   ],
   "source": [
    "plot_curve(y_test,y_pred)"
   ]
  },
  {
   "cell_type": "markdown",
   "metadata": {},
   "source": [
    "## **1.4 Decision Tree**"
   ]
  },
  {
   "cell_type": "code",
   "execution_count": 423,
   "metadata": {},
   "outputs": [],
   "source": [
    "#use sklearn to manually split train and test data, test data is survived col\n",
    "from sklearn.model_selection import train_test_split\n",
    "X_dctrain, X_dctest, y_dctrain, y_dctest = train_test_split(df_titanic.drop(columns=[\"Survived\"]), df_titanic[\"Survived\"], \n",
    "                                                    test_size=0.3, random_state=42)"
   ]
  },
  {
   "cell_type": "code",
   "execution_count": 424,
   "metadata": {},
   "outputs": [
    {
     "name": "stdout",
     "output_type": "stream",
     "text": [
      "<class 'pandas.core.frame.DataFrame'>\n",
      "Int64Index: 623 entries, 445 to 102\n",
      "Data columns (total 8 columns):\n",
      "Pclass      623 non-null int64\n",
      "Sex         623 non-null object\n",
      "Age         623 non-null object\n",
      "SibSp       623 non-null int64\n",
      "Parch       623 non-null int64\n",
      "Fare        623 non-null float64\n",
      "Cabin       623 non-null object\n",
      "Embarked    623 non-null object\n",
      "dtypes: float64(1), int64(3), object(4)\n",
      "memory usage: 43.8+ KB\n"
     ]
    }
   ],
   "source": [
    "fillnull(X_dctrain)\n",
    "fillnull(X_dctest)\n",
    "X_dctrain.info()"
   ]
  },
  {
   "cell_type": "code",
   "execution_count": 461,
   "metadata": {},
   "outputs": [],
   "source": [
    "#import decision tree classifier function \n",
    "from sklearn.tree import DecisionTreeClassifier\n",
    "\n",
    "classifier_dc= DecisionTreeClassifier(random_state=40)"
   ]
  },
  {
   "cell_type": "code",
   "execution_count": 512,
   "metadata": {},
   "outputs": [
    {
     "data": {
      "text/html": [
       "<style>#sk-59b029bb-dbe7-492f-97ea-1e2aef9cf1f9 {color: black;background-color: white;}#sk-59b029bb-dbe7-492f-97ea-1e2aef9cf1f9 pre{padding: 0;}#sk-59b029bb-dbe7-492f-97ea-1e2aef9cf1f9 div.sk-toggleable {background-color: white;}#sk-59b029bb-dbe7-492f-97ea-1e2aef9cf1f9 label.sk-toggleable__label {cursor: pointer;display: block;width: 100%;margin-bottom: 0;padding: 0.2em 0.3em;box-sizing: border-box;text-align: center;}#sk-59b029bb-dbe7-492f-97ea-1e2aef9cf1f9 div.sk-toggleable__content {max-height: 0;max-width: 0;overflow: hidden;text-align: left;background-color: #f0f8ff;}#sk-59b029bb-dbe7-492f-97ea-1e2aef9cf1f9 div.sk-toggleable__content pre {margin: 0.2em;color: black;border-radius: 0.25em;background-color: #f0f8ff;}#sk-59b029bb-dbe7-492f-97ea-1e2aef9cf1f9 input.sk-toggleable__control:checked~div.sk-toggleable__content {max-height: 200px;max-width: 100%;overflow: auto;}#sk-59b029bb-dbe7-492f-97ea-1e2aef9cf1f9 div.sk-estimator input.sk-toggleable__control:checked~label.sk-toggleable__label {background-color: #d4ebff;}#sk-59b029bb-dbe7-492f-97ea-1e2aef9cf1f9 div.sk-label input.sk-toggleable__control:checked~label.sk-toggleable__label {background-color: #d4ebff;}#sk-59b029bb-dbe7-492f-97ea-1e2aef9cf1f9 input.sk-hidden--visually {border: 0;clip: rect(1px 1px 1px 1px);clip: rect(1px, 1px, 1px, 1px);height: 1px;margin: -1px;overflow: hidden;padding: 0;position: absolute;width: 1px;}#sk-59b029bb-dbe7-492f-97ea-1e2aef9cf1f9 div.sk-estimator {font-family: monospace;background-color: #f0f8ff;margin: 0.25em 0.25em;border: 1px dotted black;border-radius: 0.25em;box-sizing: border-box;}#sk-59b029bb-dbe7-492f-97ea-1e2aef9cf1f9 div.sk-estimator:hover {background-color: #d4ebff;}#sk-59b029bb-dbe7-492f-97ea-1e2aef9cf1f9 div.sk-parallel-item::after {content: \"\";width: 100%;border-bottom: 1px solid gray;flex-grow: 1;}#sk-59b029bb-dbe7-492f-97ea-1e2aef9cf1f9 div.sk-label:hover label.sk-toggleable__label {background-color: #d4ebff;}#sk-59b029bb-dbe7-492f-97ea-1e2aef9cf1f9 div.sk-serial::before {content: \"\";position: absolute;border-left: 1px solid gray;box-sizing: border-box;top: 2em;bottom: 0;left: 50%;}#sk-59b029bb-dbe7-492f-97ea-1e2aef9cf1f9 div.sk-serial {display: flex;flex-direction: column;align-items: center;background-color: white;}#sk-59b029bb-dbe7-492f-97ea-1e2aef9cf1f9 div.sk-item {z-index: 1;}#sk-59b029bb-dbe7-492f-97ea-1e2aef9cf1f9 div.sk-parallel {display: flex;align-items: stretch;justify-content: center;background-color: white;}#sk-59b029bb-dbe7-492f-97ea-1e2aef9cf1f9 div.sk-parallel-item {display: flex;flex-direction: column;position: relative;background-color: white;}#sk-59b029bb-dbe7-492f-97ea-1e2aef9cf1f9 div.sk-parallel-item:first-child::after {align-self: flex-end;width: 50%;}#sk-59b029bb-dbe7-492f-97ea-1e2aef9cf1f9 div.sk-parallel-item:last-child::after {align-self: flex-start;width: 50%;}#sk-59b029bb-dbe7-492f-97ea-1e2aef9cf1f9 div.sk-parallel-item:only-child::after {width: 0;}#sk-59b029bb-dbe7-492f-97ea-1e2aef9cf1f9 div.sk-dashed-wrapped {border: 1px dashed gray;margin: 0.2em;box-sizing: border-box;padding-bottom: 0.1em;background-color: white;position: relative;}#sk-59b029bb-dbe7-492f-97ea-1e2aef9cf1f9 div.sk-label label {font-family: monospace;font-weight: bold;background-color: white;display: inline-block;line-height: 1.2em;}#sk-59b029bb-dbe7-492f-97ea-1e2aef9cf1f9 div.sk-label-container {position: relative;z-index: 2;text-align: center;}#sk-59b029bb-dbe7-492f-97ea-1e2aef9cf1f9 div.sk-container {display: inline-block;position: relative;}</style><div id=\"sk-59b029bb-dbe7-492f-97ea-1e2aef9cf1f9\" class\"sk-top-container\"><div class=\"sk-container\"><div class=\"sk-item sk-dashed-wrapped\"><div class=\"sk-label-container\"><div class=\"sk-label sk-toggleable\"><input class=\"sk-toggleable__control sk-hidden--visually\" id=\"98cc901e-6f7c-4247-9bf4-9637bdfd13c5\" type=\"checkbox\" ><label class=\"sk-toggleable__label\" for=\"98cc901e-6f7c-4247-9bf4-9637bdfd13c5\">Pipeline</label><div class=\"sk-toggleable__content\"><pre>Pipeline(steps=[('columntransformer-1',\n",
       "                 ColumnTransformer(transformers=[('CatOneHot',\n",
       "                                                  OneHotEncoder(handle_unknown='ignore'),\n",
       "                                                  ['Embarked', 'Sex',\n",
       "                                                   'Cabin'])])),\n",
       "                ('columntransformer-2',\n",
       "                 ColumnTransformer(transformers=[('scaler',\n",
       "                                                  StandardScaler(with_mean=False),\n",
       "                                                  slice(0, -1, None))])),\n",
       "                ('decisiontreeclassifier', DecisionTreeClassifier())])</pre></div></div></div><div class=\"sk-serial\"><div class=\"sk-item sk-dashed-wrapped\"><div class=\"sk-label-container\"><div class=\"sk-label sk-toggleable\"><input class=\"sk-toggleable__control sk-hidden--visually\" id=\"842e6f18-772c-4976-8b0f-70cbb93f7d98\" type=\"checkbox\" ><label class=\"sk-toggleable__label\" for=\"842e6f18-772c-4976-8b0f-70cbb93f7d98\">columntransformer-1: ColumnTransformer</label><div class=\"sk-toggleable__content\"><pre>ColumnTransformer(transformers=[('CatOneHot',\n",
       "                                 OneHotEncoder(handle_unknown='ignore'),\n",
       "                                 ['Embarked', 'Sex', 'Cabin'])])</pre></div></div></div><div class=\"sk-parallel\"><div class=\"sk-parallel-item\"><div class=\"sk-item\"><div class=\"sk-label-container\"><div class=\"sk-label sk-toggleable\"><input class=\"sk-toggleable__control sk-hidden--visually\" id=\"fd4698ac-d8ae-43c0-bdf1-a640824e69fd\" type=\"checkbox\" ><label class=\"sk-toggleable__label\" for=\"fd4698ac-d8ae-43c0-bdf1-a640824e69fd\">CatOneHot</label><div class=\"sk-toggleable__content\"><pre>['Embarked', 'Sex', 'Cabin']</pre></div></div></div><div class=\"sk-serial\"><div class=\"sk-item\"><div class=\"sk-estimator sk-toggleable\"><input class=\"sk-toggleable__control sk-hidden--visually\" id=\"edd16805-94c2-4889-aa96-f860f12975a7\" type=\"checkbox\" ><label class=\"sk-toggleable__label\" for=\"edd16805-94c2-4889-aa96-f860f12975a7\">OneHotEncoder</label><div class=\"sk-toggleable__content\"><pre>OneHotEncoder(handle_unknown='ignore')</pre></div></div></div></div></div></div></div></div><div class=\"sk-item sk-dashed-wrapped\"><div class=\"sk-label-container\"><div class=\"sk-label sk-toggleable\"><input class=\"sk-toggleable__control sk-hidden--visually\" id=\"084ca873-738b-4552-86bd-42b6d7fb853e\" type=\"checkbox\" ><label class=\"sk-toggleable__label\" for=\"084ca873-738b-4552-86bd-42b6d7fb853e\">columntransformer-2: ColumnTransformer</label><div class=\"sk-toggleable__content\"><pre>ColumnTransformer(transformers=[('scaler', StandardScaler(with_mean=False),\n",
       "                                 slice(0, -1, None))])</pre></div></div></div><div class=\"sk-parallel\"><div class=\"sk-parallel-item\"><div class=\"sk-item\"><div class=\"sk-label-container\"><div class=\"sk-label sk-toggleable\"><input class=\"sk-toggleable__control sk-hidden--visually\" id=\"dc9bcf6f-e00d-4734-ba10-3fcf13be10b4\" type=\"checkbox\" ><label class=\"sk-toggleable__label\" for=\"dc9bcf6f-e00d-4734-ba10-3fcf13be10b4\">scaler</label><div class=\"sk-toggleable__content\"><pre>slice(0, -1, None)</pre></div></div></div><div class=\"sk-serial\"><div class=\"sk-item\"><div class=\"sk-estimator sk-toggleable\"><input class=\"sk-toggleable__control sk-hidden--visually\" id=\"ec0026c8-841d-4c39-94c3-b5819e950963\" type=\"checkbox\" ><label class=\"sk-toggleable__label\" for=\"ec0026c8-841d-4c39-94c3-b5819e950963\">StandardScaler</label><div class=\"sk-toggleable__content\"><pre>StandardScaler(with_mean=False)</pre></div></div></div></div></div></div></div></div><div class=\"sk-item\"><div class=\"sk-estimator sk-toggleable\"><input class=\"sk-toggleable__control sk-hidden--visually\" id=\"a7c04718-eee5-4127-a4b5-d94241d97fe2\" type=\"checkbox\" ><label class=\"sk-toggleable__label\" for=\"a7c04718-eee5-4127-a4b5-d94241d97fe2\">DecisionTreeClassifier</label><div class=\"sk-toggleable__content\"><pre>DecisionTreeClassifier()</pre></div></div></div></div></div></div></div>"
      ],
      "text/plain": [
       "Pipeline(steps=[('columntransformer-1',\n",
       "                 ColumnTransformer(transformers=[('CatOneHot',\n",
       "                                                  OneHotEncoder(handle_unknown='ignore'),\n",
       "                                                  ['Embarked', 'Sex',\n",
       "                                                   'Cabin'])])),\n",
       "                ('columntransformer-2',\n",
       "                 ColumnTransformer(transformers=[('scaler',\n",
       "                                                  StandardScaler(with_mean=False),\n",
       "                                                  slice(0, -1, None))])),\n",
       "                ('decisiontreeclassifier', DecisionTreeClassifier())])"
      ]
     },
     "execution_count": 512,
     "metadata": {},
     "output_type": "execute_result"
    }
   ],
   "source": [
    "dtc = make_pipeline(categorical_transformer,scaler,classifier_dc)\n",
    "dtc.fit(X_dctrain,y_dctrain)"
   ]
  },
  {
   "cell_type": "code",
   "execution_count": 568,
   "metadata": {},
   "outputs": [
    {
     "name": "stdout",
     "output_type": "stream",
     "text": [
      "Train Result:\n",
      "================================================\n",
      "Accuracy Score: 83.8%\n",
      "_______________________________________________\n",
      "CLASSIFICATION REPORT:\n",
      "              precision    recall  f1-score   support\n",
      "\n",
      "           0       0.88      0.86      0.87       392\n",
      "           1       0.78      0.79      0.78       231\n",
      "\n",
      "    accuracy                           0.84       623\n",
      "   macro avg       0.83      0.83      0.83       623\n",
      "weighted avg       0.84      0.84      0.84       623\n",
      "\n",
      "_______________________________________________\n",
      "Confusion Matrix: \n",
      " [[339  53]\n",
      " [ 48 183]]\n",
      "\n",
      "Train Result:\n",
      "================================================\n",
      "Accuracy Score: 78.4%\n",
      "_______________________________________________\n",
      "CLASSIFICATION REPORT:\n",
      "              precision    recall  f1-score   support\n",
      "\n",
      "           0       0.80      0.85      0.82       157\n",
      "           1       0.76      0.69      0.73       111\n",
      "\n",
      "    accuracy                           0.78       268\n",
      "   macro avg       0.78      0.77      0.77       268\n",
      "weighted avg       0.78      0.78      0.78       268\n",
      "\n",
      "_______________________________________________\n",
      "Confusion Matrix: \n",
      " [[133  24]\n",
      " [ 34  77]]\n",
      "\n"
     ]
    },
    {
     "data": {
      "image/png": "[encoded data removed]",
      "text/plain": [
       "<Figure size 432x288 with 3 Axes>"
      ]
     },
     "metadata": {
      "needs_background": "light"
     },
     "output_type": "display_data"
    }
   ],
   "source": [
    "print_score(dtc,X_dctrain, y_dctrain, X_dctest, y_dctest,train=True)\n",
    "print_score(dtc,X_dctrain, y_dctrain, X_dctest, y_dctest,train=False)"
   ]
  },
  {
   "cell_type": "markdown",
   "metadata": {},
   "source": [
    "## <span style ='color:red'>问：对于titanic数据， decision tree不适合用feature importance属性来获取最重要的feature？？ 在train之前通过数据分布关系来决定重要的feature</span>"
   ]
  },
  {
   "cell_type": "code",
   "execution_count": 475,
   "metadata": {},
   "outputs": [],
   "source": [
    "# cannot use directly model's feature_importance feature through make_pipeline\n",
    "feature_names = dtc.named_steps['decisiontreeclassifier'].feature_importances_\n",
    "sorted_idx = np.argsort(feature_names)"
   ]
  },
  {
   "cell_type": "code",
   "execution_count": 478,
   "metadata": {},
   "outputs": [
    {
     "name": "stdout",
     "output_type": "stream",
     "text": [
      "Feature: 0, Score: 0.04032\n",
      "Feature: 1, Score: 0.00221\n",
      "Feature: 2, Score: 0.00000\n",
      "Feature: 3, Score: 0.57487\n",
      "Feature: 4, Score: 0.00000\n",
      "Feature: 5, Score: 0.00044\n",
      "Feature: 6, Score: 0.00024\n",
      "Feature: 7, Score: 0.00026\n",
      "Feature: 8, Score: 0.00023\n",
      "Feature: 9, Score: 0.01013\n",
      "Feature: 10, Score: 0.00022\n",
      "Feature: 11, Score: 0.00859\n",
      "Feature: 12, Score: 0.00021\n",
      "Feature: 13, Score: 0.01031\n",
      "Feature: 14, Score: 0.00023\n",
      "Feature: 15, Score: 0.00695\n",
      "Feature: 16, Score: 0.00024\n",
      "Feature: 17, Score: 0.00038\n",
      "Feature: 18, Score: 0.00023\n",
      "Feature: 19, Score: 0.01069\n",
      "Feature: 20, Score: 0.00194\n",
      "Feature: 21, Score: 0.00194\n",
      "Feature: 22, Score: 0.00178\n",
      "Feature: 23, Score: 0.00034\n",
      "Feature: 24, Score: 0.00050\n",
      "Feature: 25, Score: 0.00029\n",
      "Feature: 26, Score: 0.00650\n",
      "Feature: 27, Score: 0.00244\n",
      "Feature: 28, Score: 0.00771\n",
      "Feature: 29, Score: 0.00267\n",
      "Feature: 30, Score: 0.00799\n",
      "Feature: 31, Score: 0.00766\n",
      "Feature: 32, Score: 0.00023\n",
      "Feature: 33, Score: 0.00230\n",
      "Feature: 34, Score: 0.00261\n",
      "Feature: 35, Score: 0.00205\n",
      "Feature: 36, Score: 0.00046\n",
      "Feature: 37, Score: 0.00057\n",
      "Feature: 38, Score: 0.00022\n",
      "Feature: 39, Score: 0.00306\n",
      "Feature: 40, Score: 0.00181\n",
      "Feature: 41, Score: 0.00184\n",
      "Feature: 42, Score: 0.00046\n",
      "Feature: 43, Score: 0.00052\n",
      "Feature: 44, Score: 0.00213\n",
      "Feature: 45, Score: 0.00020\n",
      "Feature: 46, Score: 0.00282\n",
      "Feature: 47, Score: 0.00024\n",
      "Feature: 48, Score: 0.00209\n",
      "Feature: 49, Score: 0.01331\n",
      "Feature: 50, Score: 0.00335\n",
      "Feature: 51, Score: 0.00024\n",
      "Feature: 52, Score: 0.00031\n",
      "Feature: 53, Score: 0.00024\n",
      "Feature: 54, Score: 0.00630\n",
      "Feature: 55, Score: 0.01084\n",
      "Feature: 56, Score: 0.00043\n",
      "Feature: 57, Score: 0.00058\n",
      "Feature: 58, Score: 0.00054\n",
      "Feature: 59, Score: 0.00076\n",
      "Feature: 60, Score: 0.00076\n",
      "Feature: 61, Score: 0.00225\n",
      "Feature: 62, Score: 0.00719\n",
      "Feature: 63, Score: 0.00013\n",
      "Feature: 64, Score: 0.00239\n",
      "Feature: 65, Score: 0.00025\n",
      "Feature: 66, Score: 0.00021\n",
      "Feature: 67, Score: 0.00050\n",
      "Feature: 68, Score: 0.00022\n",
      "Feature: 69, Score: 0.00927\n",
      "Feature: 70, Score: 0.01082\n",
      "Feature: 71, Score: 0.00172\n",
      "Feature: 72, Score: 0.00024\n",
      "Feature: 73, Score: 0.00234\n",
      "Feature: 74, Score: 0.00022\n",
      "Feature: 75, Score: 0.00038\n",
      "Feature: 76, Score: 0.00021\n",
      "Feature: 77, Score: 0.00707\n",
      "Feature: 78, Score: 0.01289\n",
      "Feature: 79, Score: 0.00033\n",
      "Feature: 80, Score: 0.00020\n",
      "Feature: 81, Score: 0.01063\n",
      "Feature: 82, Score: 0.00021\n",
      "Feature: 83, Score: 0.00892\n",
      "Feature: 84, Score: 0.01038\n",
      "Feature: 85, Score: 0.00021\n",
      "Feature: 86, Score: 0.00209\n",
      "Feature: 87, Score: 0.01019\n",
      "Feature: 88, Score: 0.00379\n",
      "Feature: 89, Score: 0.01088\n",
      "Feature: 90, Score: 0.01277\n",
      "Feature: 91, Score: 0.01025\n",
      "Feature: 92, Score: 0.02009\n",
      "Feature: 93, Score: 0.00023\n",
      "Feature: 94, Score: 0.00289\n",
      "Feature: 95, Score: 0.00037\n",
      "Feature: 96, Score: 0.00221\n",
      "Feature: 97, Score: 0.00022\n",
      "Feature: 98, Score: 0.00828\n",
      "Feature: 99, Score: 0.00020\n",
      "Feature: 100, Score: 0.00195\n",
      "Feature: 101, Score: 0.01235\n",
      "Feature: 102, Score: 0.00040\n",
      "Feature: 103, Score: 0.00021\n",
      "Feature: 104, Score: 0.00037\n",
      "Feature: 105, Score: 0.01986\n",
      "Feature: 106, Score: 0.00274\n",
      "Feature: 107, Score: 0.00014\n",
      "Feature: 108, Score: 0.01277\n",
      "Feature: 109, Score: 0.00558\n",
      "Feature: 110, Score: 0.00020\n"
     ]
    }
   ],
   "source": [
    "# print feature importance\n",
    "for i,v in enumerate(feature_names):\n",
    "    print('Feature: %0d, Score: %.5f' % (i,v))"
   ]
  },
  {
   "cell_type": "markdown",
   "metadata": {},
   "source": [
    "## Cross-validation prediction accuracy of Decison Tree"
   ]
  },
  {
   "cell_type": "code",
   "execution_count": 480,
   "metadata": {},
   "outputs": [],
   "source": [
    "# build a new pipeline to prevent from overlapping\n",
    "cross_predict_dc = make_pipeline(categorical_transformer,scaler,classifier_dc)"
   ]
  },
  {
   "cell_type": "code",
   "execution_count": 481,
   "metadata": {},
   "outputs": [
    {
     "name": "stdout",
     "output_type": "stream",
     "text": [
      "K-fold cross-validation results:\n",
      "Descision Tree avarage accuracy is: 0.791\n",
      "K-fold cross-validation results:\n",
      "Descision Tree avarage f1_macro is: 0.775\n"
     ]
    }
   ],
   "source": [
    "# use cross-validation dataset to train model\n",
    "print_evaluate('Descision Tree',cross_predict_dc,'accuracy')\n",
    "print_evaluate('Descision Tree',cross_predict_dc,'f1_macro')"
   ]
  },
  {
   "cell_type": "markdown",
   "metadata": {},
   "source": [
    "## **1.4.1 Decision Tree Classifier Hyperparameter tuning**"
   ]
  },
  {
   "cell_type": "code",
   "execution_count": 490,
   "metadata": {},
   "outputs": [
    {
     "name": "stdout",
     "output_type": "stream",
     "text": [
      "Fitting 3 folds for each of 4332 candidates, totalling 12996 fits\n"
     ]
    }
   ],
   "source": [
    "from sklearn.model_selection import GridSearchCV\n",
    "#  Invalid parameter for estimator Pipeline\n",
    "params = {\n",
    "    \"decisiontreeclassifier__criterion\":(\"gini\", \"entropy\"), \n",
    "    \"decisiontreeclassifier__splitter\":(\"best\", \"random\"), \n",
    "    \"decisiontreeclassifier__max_depth\":(list(range(1, 20))), \n",
    "    \"decisiontreeclassifier__min_samples_split\":[2, 3, 4], \n",
    "    \"decisiontreeclassifier__min_samples_leaf\":list(range(1, 20)), \n",
    "\n",
    "}\n",
    "\n",
    "tree_clf = make_pipeline(categorical_transformer,scaler,classifier_dc) #The only rationale for passing in an int value (0 or otherwise) is to make the outcome consistent across calls: if you call this with random_state=0 (or any other value), then each and every time, you'll get the same result.\n",
    "tree_cv = GridSearchCV(tree_clf, params, scoring=\"accuracy\", n_jobs=-1, verbose=1, cv=3)\n",
    "tree_cv.fit(X_dctrain, y_dctrain)\n"
   ]
  },
  {
   "cell_type": "code",
   "execution_count": 524,
   "metadata": {},
   "outputs": [
    {
     "name": "stdout",
     "output_type": "stream",
     "text": [
      "Best paramters: {'decisiontreeclassifier__criterion': 'gini', 'decisiontreeclassifier__max_depth': 4, 'decisiontreeclassifier__min_samples_leaf': 1, 'decisiontreeclassifier__min_samples_split': 2, 'decisiontreeclassifier__splitter': 'random'}\n",
      "Best score: 78.98%\n"
     ]
    }
   ],
   "source": [
    "best_params = tree_cv.best_params_\n",
    "best_score = tree_cv.best_score_\n",
    "\n",
    "print(f\"Best paramters: {best_params}\")\n",
    "print(f\"Best score: {best_score* 100:.4}%\") #test accuracy"
   ]
  },
  {
   "cell_type": "code",
   "execution_count": null,
   "metadata": {},
   "outputs": [],
   "source": []
  }
 ],
 "metadata": {
  "kernelspec": {
   "display_name": "Python 3",
   "language": "python",
   "name": "python3"
  },
  "language_info": {
   "codemirror_mode": {
    "name": "ipython",
    "version": 3
   },
   "file_extension": ".py",
   "mimetype": "text/x-python",
   "name": "python",
   "nbconvert_exporter": "python",
   "pygments_lexer": "ipython3",
   "version": "3.7.3"
  }
 },
 "nbformat": 4,
 "nbformat_minor": 2
}
