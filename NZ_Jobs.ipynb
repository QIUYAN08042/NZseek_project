{
  "nbformat": 4,
  "nbformat_minor": 0,
  "metadata": {
    "colab": {
      "name": "NZ_Jobs.ipynb",
      "provenance": [],
      "collapsed_sections": [],
      "authorship_tag": "ABX9TyMbErKFZS4rl0fE5v0Dhy2x",
      "include_colab_link": true
    },
    "kernelspec": {
      "name": "python3",
      "display_name": "Python 3"
    },
    "language_info": {
      "name": "python"
    }
  },
  "cells": [
    {
      "cell_type": "markdown",
      "metadata": {
        "id": "view-in-github",
        "colab_type": "text"
      },
      "source": [
        "<a href=\"https://colab.research.google.com/github/QIUYAN08042/NZseek_project/blob/main/NZ_Jobs.ipynb\" target=\"_parent\"><img src=\"https://colab.research.google.com/assets/colab-badge.svg\" alt=\"Open In Colab\"/></a>"
      ]
    },
    {
      "cell_type": "code",
      "metadata": {
        "colab": {
          "base_uri": "https://localhost:8080/"
        },
        "id": "yGJPffuD7Gr8",
        "outputId": "c9a6045c-4d73-418a-d9b7-806428835929"
      },
      "source": [
        "from google.colab import drive\n",
        "drive.mount('/content/drive')\n"
      ],
      "execution_count": null,
      "outputs": [
        {
          "output_type": "stream",
          "text": [
            "Mounted at /content/drive\n"
          ],
          "name": "stdout"
        }
      ]
    },
    {
      "cell_type": "code",
      "metadata": {
        "colab": {
          "base_uri": "https://localhost:8080/"
        },
        "id": "ampDcuoI9D68",
        "outputId": "90142d91-70cf-4219-b883-e17940807b23"
      },
      "source": [
        "import pandas as pd\n",
        "\n",
        "NZ_RawJobFile = pd.read_excel('/content/drive/MyDrive/DA202105/DataSource/NZ_Admin_JOBS.xlsx')\n",
        "print (type(NZ_RawJobFile))\n",
        "print (NZ_RawJobFile.dtypes)\n",
        "print (NZ_RawJobFile.isna().any())"
      ],
      "execution_count": null,
      "outputs": [
        {
          "output_type": "stream",
          "text": [
            "<class 'pandas.core.frame.DataFrame'>\n",
            "字段1         object\n",
            "字段1_link    object\n",
            "字段2         object\n",
            "字段3         object\n",
            "字段4         object\n",
            "字段5         object\n",
            "dtype: object\n",
            "字段1         False\n",
            "字段1_link    False\n",
            "字段2          True\n",
            "字段3         False\n",
            "字段4         False\n",
            "字段5         False\n",
            "dtype: bool\n"
          ],
          "name": "stdout"
        }
      ]
    }
  ]
}